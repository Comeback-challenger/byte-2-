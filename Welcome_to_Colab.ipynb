{
  "cells": [
    {
      "cell_type": "code",
      "source": [
        "import pandas as pd\n",
        "import numpy as np"
      ],
      "metadata": {
        "id": "VFvLSsVswkNr"
      },
      "execution_count": 74,
      "outputs": []
    },
    {
      "cell_type": "code",
      "source": [
        "df = pd.read_csv(\"cosmicclassifierTraining.csv\")\n",
        "df.sample(5)"
      ],
      "metadata": {
        "colab": {
          "base_uri": "https://localhost:8080/",
          "height": 241
        },
        "id": "lBasTXmXwr_b",
        "outputId": "107cdad7-7d7a-48f3-c35a-863a3a0fbd25"
      },
      "execution_count": 75,
      "outputs": [
        {
          "output_type": "execute_result",
          "data": {
            "text/plain": [
              "       Atmospheric Density  Surface Temperature   Gravity  Water Content  \\\n",
              "15993             4.037125            -0.056487  5.023511      -1.008814   \n",
              "50389             4.134482             3.325535  0.196664       1.543636   \n",
              "55622             3.618479            -0.243115 -0.177090      -0.222510   \n",
              "25582            -1.120491            -1.480039  0.652733      -0.661714   \n",
              "22281            -0.110103             0.430885  3.236913      -3.648288   \n",
              "\n",
              "       Mineral Abundance  Orbital Period  Proximity to Star  \\\n",
              "15993          -1.228337       -0.346639          -0.435115   \n",
              "50389           1.258738        1.025305          -2.059074   \n",
              "55622          -0.450821       -0.793909          -0.524543   \n",
              "25582           1.545302        0.662828                NaN   \n",
              "22281           1.764368        1.262199          -0.400121   \n",
              "\n",
              "      Magnetic Field Strength Radiation Levels  Atmospheric Composition Index  \\\n",
              "15993             Category_12       Category_7                      -0.107971   \n",
              "50389             Category_11       Category_9                       0.797615   \n",
              "55622             Category_10       Category_4                      -0.320902   \n",
              "25582             Category_11       Category_7                       1.312761   \n",
              "22281              Category_7      Category_12                      -0.988622   \n",
              "\n",
              "       Prediction  \n",
              "15993         NaN  \n",
              "50389         4.0  \n",
              "55622         0.0  \n",
              "25582         8.0  \n",
              "22281         8.0  "
            ],
            "text/html": [
              "\n",
              "  <div id=\"df-d897c0c3-36a8-41cd-9a9d-07ffa8e19cad\" class=\"colab-df-container\">\n",
              "    <div>\n",
              "<style scoped>\n",
              "    .dataframe tbody tr th:only-of-type {\n",
              "        vertical-align: middle;\n",
              "    }\n",
              "\n",
              "    .dataframe tbody tr th {\n",
              "        vertical-align: top;\n",
              "    }\n",
              "\n",
              "    .dataframe thead th {\n",
              "        text-align: right;\n",
              "    }\n",
              "</style>\n",
              "<table border=\"1\" class=\"dataframe\">\n",
              "  <thead>\n",
              "    <tr style=\"text-align: right;\">\n",
              "      <th></th>\n",
              "      <th>Atmospheric Density</th>\n",
              "      <th>Surface Temperature</th>\n",
              "      <th>Gravity</th>\n",
              "      <th>Water Content</th>\n",
              "      <th>Mineral Abundance</th>\n",
              "      <th>Orbital Period</th>\n",
              "      <th>Proximity to Star</th>\n",
              "      <th>Magnetic Field Strength</th>\n",
              "      <th>Radiation Levels</th>\n",
              "      <th>Atmospheric Composition Index</th>\n",
              "      <th>Prediction</th>\n",
              "    </tr>\n",
              "  </thead>\n",
              "  <tbody>\n",
              "    <tr>\n",
              "      <th>15993</th>\n",
              "      <td>4.037125</td>\n",
              "      <td>-0.056487</td>\n",
              "      <td>5.023511</td>\n",
              "      <td>-1.008814</td>\n",
              "      <td>-1.228337</td>\n",
              "      <td>-0.346639</td>\n",
              "      <td>-0.435115</td>\n",
              "      <td>Category_12</td>\n",
              "      <td>Category_7</td>\n",
              "      <td>-0.107971</td>\n",
              "      <td>NaN</td>\n",
              "    </tr>\n",
              "    <tr>\n",
              "      <th>50389</th>\n",
              "      <td>4.134482</td>\n",
              "      <td>3.325535</td>\n",
              "      <td>0.196664</td>\n",
              "      <td>1.543636</td>\n",
              "      <td>1.258738</td>\n",
              "      <td>1.025305</td>\n",
              "      <td>-2.059074</td>\n",
              "      <td>Category_11</td>\n",
              "      <td>Category_9</td>\n",
              "      <td>0.797615</td>\n",
              "      <td>4.0</td>\n",
              "    </tr>\n",
              "    <tr>\n",
              "      <th>55622</th>\n",
              "      <td>3.618479</td>\n",
              "      <td>-0.243115</td>\n",
              "      <td>-0.177090</td>\n",
              "      <td>-0.222510</td>\n",
              "      <td>-0.450821</td>\n",
              "      <td>-0.793909</td>\n",
              "      <td>-0.524543</td>\n",
              "      <td>Category_10</td>\n",
              "      <td>Category_4</td>\n",
              "      <td>-0.320902</td>\n",
              "      <td>0.0</td>\n",
              "    </tr>\n",
              "    <tr>\n",
              "      <th>25582</th>\n",
              "      <td>-1.120491</td>\n",
              "      <td>-1.480039</td>\n",
              "      <td>0.652733</td>\n",
              "      <td>-0.661714</td>\n",
              "      <td>1.545302</td>\n",
              "      <td>0.662828</td>\n",
              "      <td>NaN</td>\n",
              "      <td>Category_11</td>\n",
              "      <td>Category_7</td>\n",
              "      <td>1.312761</td>\n",
              "      <td>8.0</td>\n",
              "    </tr>\n",
              "    <tr>\n",
              "      <th>22281</th>\n",
              "      <td>-0.110103</td>\n",
              "      <td>0.430885</td>\n",
              "      <td>3.236913</td>\n",
              "      <td>-3.648288</td>\n",
              "      <td>1.764368</td>\n",
              "      <td>1.262199</td>\n",
              "      <td>-0.400121</td>\n",
              "      <td>Category_7</td>\n",
              "      <td>Category_12</td>\n",
              "      <td>-0.988622</td>\n",
              "      <td>8.0</td>\n",
              "    </tr>\n",
              "  </tbody>\n",
              "</table>\n",
              "</div>\n",
              "    <div class=\"colab-df-buttons\">\n",
              "\n",
              "  <div class=\"colab-df-container\">\n",
              "    <button class=\"colab-df-convert\" onclick=\"convertToInteractive('df-d897c0c3-36a8-41cd-9a9d-07ffa8e19cad')\"\n",
              "            title=\"Convert this dataframe to an interactive table.\"\n",
              "            style=\"display:none;\">\n",
              "\n",
              "  <svg xmlns=\"http://www.w3.org/2000/svg\" height=\"24px\" viewBox=\"0 -960 960 960\">\n",
              "    <path d=\"M120-120v-720h720v720H120Zm60-500h600v-160H180v160Zm220 220h160v-160H400v160Zm0 220h160v-160H400v160ZM180-400h160v-160H180v160Zm440 0h160v-160H620v160ZM180-180h160v-160H180v160Zm440 0h160v-160H620v160Z\"/>\n",
              "  </svg>\n",
              "    </button>\n",
              "\n",
              "  <style>\n",
              "    .colab-df-container {\n",
              "      display:flex;\n",
              "      gap: 12px;\n",
              "    }\n",
              "\n",
              "    .colab-df-convert {\n",
              "      background-color: #E8F0FE;\n",
              "      border: none;\n",
              "      border-radius: 50%;\n",
              "      cursor: pointer;\n",
              "      display: none;\n",
              "      fill: #1967D2;\n",
              "      height: 32px;\n",
              "      padding: 0 0 0 0;\n",
              "      width: 32px;\n",
              "    }\n",
              "\n",
              "    .colab-df-convert:hover {\n",
              "      background-color: #E2EBFA;\n",
              "      box-shadow: 0px 1px 2px rgba(60, 64, 67, 0.3), 0px 1px 3px 1px rgba(60, 64, 67, 0.15);\n",
              "      fill: #174EA6;\n",
              "    }\n",
              "\n",
              "    .colab-df-buttons div {\n",
              "      margin-bottom: 4px;\n",
              "    }\n",
              "\n",
              "    [theme=dark] .colab-df-convert {\n",
              "      background-color: #3B4455;\n",
              "      fill: #D2E3FC;\n",
              "    }\n",
              "\n",
              "    [theme=dark] .colab-df-convert:hover {\n",
              "      background-color: #434B5C;\n",
              "      box-shadow: 0px 1px 3px 1px rgba(0, 0, 0, 0.15);\n",
              "      filter: drop-shadow(0px 1px 2px rgba(0, 0, 0, 0.3));\n",
              "      fill: #FFFFFF;\n",
              "    }\n",
              "  </style>\n",
              "\n",
              "    <script>\n",
              "      const buttonEl =\n",
              "        document.querySelector('#df-d897c0c3-36a8-41cd-9a9d-07ffa8e19cad button.colab-df-convert');\n",
              "      buttonEl.style.display =\n",
              "        google.colab.kernel.accessAllowed ? 'block' : 'none';\n",
              "\n",
              "      async function convertToInteractive(key) {\n",
              "        const element = document.querySelector('#df-d897c0c3-36a8-41cd-9a9d-07ffa8e19cad');\n",
              "        const dataTable =\n",
              "          await google.colab.kernel.invokeFunction('convertToInteractive',\n",
              "                                                    [key], {});\n",
              "        if (!dataTable) return;\n",
              "\n",
              "        const docLinkHtml = 'Like what you see? Visit the ' +\n",
              "          '<a target=\"_blank\" href=https://colab.research.google.com/notebooks/data_table.ipynb>data table notebook</a>'\n",
              "          + ' to learn more about interactive tables.';\n",
              "        element.innerHTML = '';\n",
              "        dataTable['output_type'] = 'display_data';\n",
              "        await google.colab.output.renderOutput(dataTable, element);\n",
              "        const docLink = document.createElement('div');\n",
              "        docLink.innerHTML = docLinkHtml;\n",
              "        element.appendChild(docLink);\n",
              "      }\n",
              "    </script>\n",
              "  </div>\n",
              "\n",
              "\n",
              "    <div id=\"df-cf2f5f27-6cd4-4880-bde9-71c68f92c5d2\">\n",
              "      <button class=\"colab-df-quickchart\" onclick=\"quickchart('df-cf2f5f27-6cd4-4880-bde9-71c68f92c5d2')\"\n",
              "                title=\"Suggest charts\"\n",
              "                style=\"display:none;\">\n",
              "\n",
              "<svg xmlns=\"http://www.w3.org/2000/svg\" height=\"24px\"viewBox=\"0 0 24 24\"\n",
              "     width=\"24px\">\n",
              "    <g>\n",
              "        <path d=\"M19 3H5c-1.1 0-2 .9-2 2v14c0 1.1.9 2 2 2h14c1.1 0 2-.9 2-2V5c0-1.1-.9-2-2-2zM9 17H7v-7h2v7zm4 0h-2V7h2v10zm4 0h-2v-4h2v4z\"/>\n",
              "    </g>\n",
              "</svg>\n",
              "      </button>\n",
              "\n",
              "<style>\n",
              "  .colab-df-quickchart {\n",
              "      --bg-color: #E8F0FE;\n",
              "      --fill-color: #1967D2;\n",
              "      --hover-bg-color: #E2EBFA;\n",
              "      --hover-fill-color: #174EA6;\n",
              "      --disabled-fill-color: #AAA;\n",
              "      --disabled-bg-color: #DDD;\n",
              "  }\n",
              "\n",
              "  [theme=dark] .colab-df-quickchart {\n",
              "      --bg-color: #3B4455;\n",
              "      --fill-color: #D2E3FC;\n",
              "      --hover-bg-color: #434B5C;\n",
              "      --hover-fill-color: #FFFFFF;\n",
              "      --disabled-bg-color: #3B4455;\n",
              "      --disabled-fill-color: #666;\n",
              "  }\n",
              "\n",
              "  .colab-df-quickchart {\n",
              "    background-color: var(--bg-color);\n",
              "    border: none;\n",
              "    border-radius: 50%;\n",
              "    cursor: pointer;\n",
              "    display: none;\n",
              "    fill: var(--fill-color);\n",
              "    height: 32px;\n",
              "    padding: 0;\n",
              "    width: 32px;\n",
              "  }\n",
              "\n",
              "  .colab-df-quickchart:hover {\n",
              "    background-color: var(--hover-bg-color);\n",
              "    box-shadow: 0 1px 2px rgba(60, 64, 67, 0.3), 0 1px 3px 1px rgba(60, 64, 67, 0.15);\n",
              "    fill: var(--button-hover-fill-color);\n",
              "  }\n",
              "\n",
              "  .colab-df-quickchart-complete:disabled,\n",
              "  .colab-df-quickchart-complete:disabled:hover {\n",
              "    background-color: var(--disabled-bg-color);\n",
              "    fill: var(--disabled-fill-color);\n",
              "    box-shadow: none;\n",
              "  }\n",
              "\n",
              "  .colab-df-spinner {\n",
              "    border: 2px solid var(--fill-color);\n",
              "    border-color: transparent;\n",
              "    border-bottom-color: var(--fill-color);\n",
              "    animation:\n",
              "      spin 1s steps(1) infinite;\n",
              "  }\n",
              "\n",
              "  @keyframes spin {\n",
              "    0% {\n",
              "      border-color: transparent;\n",
              "      border-bottom-color: var(--fill-color);\n",
              "      border-left-color: var(--fill-color);\n",
              "    }\n",
              "    20% {\n",
              "      border-color: transparent;\n",
              "      border-left-color: var(--fill-color);\n",
              "      border-top-color: var(--fill-color);\n",
              "    }\n",
              "    30% {\n",
              "      border-color: transparent;\n",
              "      border-left-color: var(--fill-color);\n",
              "      border-top-color: var(--fill-color);\n",
              "      border-right-color: var(--fill-color);\n",
              "    }\n",
              "    40% {\n",
              "      border-color: transparent;\n",
              "      border-right-color: var(--fill-color);\n",
              "      border-top-color: var(--fill-color);\n",
              "    }\n",
              "    60% {\n",
              "      border-color: transparent;\n",
              "      border-right-color: var(--fill-color);\n",
              "    }\n",
              "    80% {\n",
              "      border-color: transparent;\n",
              "      border-right-color: var(--fill-color);\n",
              "      border-bottom-color: var(--fill-color);\n",
              "    }\n",
              "    90% {\n",
              "      border-color: transparent;\n",
              "      border-bottom-color: var(--fill-color);\n",
              "    }\n",
              "  }\n",
              "</style>\n",
              "\n",
              "      <script>\n",
              "        async function quickchart(key) {\n",
              "          const quickchartButtonEl =\n",
              "            document.querySelector('#' + key + ' button');\n",
              "          quickchartButtonEl.disabled = true;  // To prevent multiple clicks.\n",
              "          quickchartButtonEl.classList.add('colab-df-spinner');\n",
              "          try {\n",
              "            const charts = await google.colab.kernel.invokeFunction(\n",
              "                'suggestCharts', [key], {});\n",
              "          } catch (error) {\n",
              "            console.error('Error during call to suggestCharts:', error);\n",
              "          }\n",
              "          quickchartButtonEl.classList.remove('colab-df-spinner');\n",
              "          quickchartButtonEl.classList.add('colab-df-quickchart-complete');\n",
              "        }\n",
              "        (() => {\n",
              "          let quickchartButtonEl =\n",
              "            document.querySelector('#df-cf2f5f27-6cd4-4880-bde9-71c68f92c5d2 button');\n",
              "          quickchartButtonEl.style.display =\n",
              "            google.colab.kernel.accessAllowed ? 'block' : 'none';\n",
              "        })();\n",
              "      </script>\n",
              "    </div>\n",
              "\n",
              "    </div>\n",
              "  </div>\n"
            ],
            "application/vnd.google.colaboratory.intrinsic+json": {
              "type": "dataframe",
              "summary": "{\n  \"name\": \"df\",\n  \"rows\": 5,\n  \"fields\": [\n    {\n      \"column\": \"Atmospheric Density\",\n      \"properties\": {\n        \"dtype\": \"number\",\n        \"std\": 2.5225362588520444,\n        \"min\": -1.1204908,\n        \"max\": 4.1344824,\n        \"num_unique_values\": 5,\n        \"samples\": [\n          4.1344824,\n          -0.110102884,\n          3.618479\n        ],\n        \"semantic_type\": \"\",\n        \"description\": \"\"\n      }\n    },\n    {\n      \"column\": \"Surface Temperature\",\n      \"properties\": {\n        \"dtype\": \"number\",\n        \"std\": 1.7829840834690502,\n        \"min\": -1.4800392,\n        \"max\": 3.3255355,\n        \"num_unique_values\": 5,\n        \"samples\": [\n          3.3255355,\n          0.43088484,\n          -0.24311514\n        ],\n        \"semantic_type\": \"\",\n        \"description\": \"\"\n      }\n    },\n    {\n      \"column\": \"Gravity\",\n      \"properties\": {\n        \"dtype\": \"number\",\n        \"std\": 2.2500350191865524,\n        \"min\": -0.17709036,\n        \"max\": 5.0235105,\n        \"num_unique_values\": 5,\n        \"samples\": [\n          0.196664,\n          3.2369134,\n          -0.17709036\n        ],\n        \"semantic_type\": \"\",\n        \"description\": \"\"\n      }\n    },\n    {\n      \"column\": \"Water Content\",\n      \"properties\": {\n        \"dtype\": \"number\",\n        \"std\": 1.8709350989520046,\n        \"min\": -3.648288,\n        \"max\": 1.5436357,\n        \"num_unique_values\": 5,\n        \"samples\": [\n          1.5436357,\n          -3.648288,\n          -0.22251013\n        ],\n        \"semantic_type\": \"\",\n        \"description\": \"\"\n      }\n    },\n    {\n      \"column\": \"Mineral Abundance\",\n      \"properties\": {\n        \"dtype\": \"number\",\n        \"std\": 1.3349035446330864,\n        \"min\": -1.2283366,\n        \"max\": 1.7643677,\n        \"num_unique_values\": 5,\n        \"samples\": [\n          1.258738,\n          1.7643677,\n          -0.45082125\n        ],\n        \"semantic_type\": \"\",\n        \"description\": \"\"\n      }\n    },\n    {\n      \"column\": \"Orbital Period\",\n      \"properties\": {\n        \"dtype\": \"number\",\n        \"std\": 0.8915049140511706,\n        \"min\": -0.79390883,\n        \"max\": 1.2621986,\n        \"num_unique_values\": 5,\n        \"samples\": [\n          1.0253055,\n          1.2621986,\n          -0.79390883\n        ],\n        \"semantic_type\": \"\",\n        \"description\": \"\"\n      }\n    },\n    {\n      \"column\": \"Proximity to Star\",\n      \"properties\": {\n        \"dtype\": \"number\",\n        \"std\": 0.8046146792805351,\n        \"min\": -2.0590744,\n        \"max\": -0.4001209,\n        \"num_unique_values\": 4,\n        \"samples\": [\n          -2.0590744,\n          -0.4001209,\n          -0.4351155\n        ],\n        \"semantic_type\": \"\",\n        \"description\": \"\"\n      }\n    },\n    {\n      \"column\": \"Magnetic Field Strength\",\n      \"properties\": {\n        \"dtype\": \"string\",\n        \"num_unique_values\": 4,\n        \"samples\": [\n          \"Category_11\",\n          \"Category_7\",\n          \"Category_12\"\n        ],\n        \"semantic_type\": \"\",\n        \"description\": \"\"\n      }\n    },\n    {\n      \"column\": \"Radiation Levels\",\n      \"properties\": {\n        \"dtype\": \"string\",\n        \"num_unique_values\": 4,\n        \"samples\": [\n          \"Category_9\",\n          \"Category_12\",\n          \"Category_7\"\n        ],\n        \"semantic_type\": \"\",\n        \"description\": \"\"\n      }\n    },\n    {\n      \"column\": \"Atmospheric Composition Index\",\n      \"properties\": {\n        \"dtype\": \"number\",\n        \"std\": 0.9159044319398443,\n        \"min\": -0.9886221,\n        \"max\": 1.312761,\n        \"num_unique_values\": 5,\n        \"samples\": [\n          0.7976152,\n          -0.9886221,\n          -0.3209016\n        ],\n        \"semantic_type\": \"\",\n        \"description\": \"\"\n      }\n    },\n    {\n      \"column\": \"Prediction\",\n      \"properties\": {\n        \"dtype\": \"number\",\n        \"std\": 3.8297084310253524,\n        \"min\": 0.0,\n        \"max\": 8.0,\n        \"num_unique_values\": 3,\n        \"samples\": [\n          4.0,\n          0.0,\n          8.0\n        ],\n        \"semantic_type\": \"\",\n        \"description\": \"\"\n      }\n    }\n  ]\n}"
            }
          },
          "metadata": {},
          "execution_count": 75
        }
      ]
    },
    {
      "cell_type": "code",
      "source": [
        "df.shape"
      ],
      "metadata": {
        "colab": {
          "base_uri": "https://localhost:8080/"
        },
        "id": "b_JnOIhPw6yI",
        "outputId": "4d90d9e4-d59c-4388-f55f-6e7f96206231"
      },
      "execution_count": 76,
      "outputs": [
        {
          "output_type": "execute_result",
          "data": {
            "text/plain": [
              "(60000, 11)"
            ]
          },
          "metadata": {},
          "execution_count": 76
        }
      ]
    },
    {
      "cell_type": "code",
      "source": [
        "df.info()"
      ],
      "metadata": {
        "colab": {
          "base_uri": "https://localhost:8080/"
        },
        "id": "clRANJlmxSvH",
        "outputId": "138bfa40-8ca1-402a-e02a-724f556504cb"
      },
      "execution_count": 77,
      "outputs": [
        {
          "output_type": "stream",
          "name": "stdout",
          "text": [
            "<class 'pandas.core.frame.DataFrame'>\n",
            "RangeIndex: 60000 entries, 0 to 59999\n",
            "Data columns (total 11 columns):\n",
            " #   Column                         Non-Null Count  Dtype  \n",
            "---  ------                         --------------  -----  \n",
            " 0   Atmospheric Density            57016 non-null  float64\n",
            " 1   Surface Temperature            56968 non-null  float64\n",
            " 2   Gravity                        57016 non-null  float64\n",
            " 3   Water Content                  56923 non-null  float64\n",
            " 4   Mineral Abundance              57079 non-null  float64\n",
            " 5   Orbital Period                 57003 non-null  float64\n",
            " 6   Proximity to Star              57055 non-null  float64\n",
            " 7   Magnetic Field Strength        56942 non-null  object \n",
            " 8   Radiation Levels               56979 non-null  object \n",
            " 9   Atmospheric Composition Index  57058 non-null  float64\n",
            " 10  Prediction                     56961 non-null  float64\n",
            "dtypes: float64(9), object(2)\n",
            "memory usage: 5.0+ MB\n"
          ]
        }
      ]
    },
    {
      "cell_type": "code",
      "source": [
        "df.isnull().sum()"
      ],
      "metadata": {
        "colab": {
          "base_uri": "https://localhost:8080/",
          "height": 429
        },
        "id": "di7I5iFqxWk0",
        "outputId": "47686f02-379c-428c-e3bb-072880b748c4"
      },
      "execution_count": 78,
      "outputs": [
        {
          "output_type": "execute_result",
          "data": {
            "text/plain": [
              "Atmospheric Density              2984\n",
              "Surface Temperature              3032\n",
              "Gravity                          2984\n",
              "Water Content                    3077\n",
              "Mineral Abundance                2921\n",
              "Orbital Period                   2997\n",
              "Proximity to Star                2945\n",
              "Magnetic Field Strength          3058\n",
              "Radiation Levels                 3021\n",
              "Atmospheric Composition Index    2942\n",
              "Prediction                       3039\n",
              "dtype: int64"
            ],
            "text/html": [
              "<div>\n",
              "<style scoped>\n",
              "    .dataframe tbody tr th:only-of-type {\n",
              "        vertical-align: middle;\n",
              "    }\n",
              "\n",
              "    .dataframe tbody tr th {\n",
              "        vertical-align: top;\n",
              "    }\n",
              "\n",
              "    .dataframe thead th {\n",
              "        text-align: right;\n",
              "    }\n",
              "</style>\n",
              "<table border=\"1\" class=\"dataframe\">\n",
              "  <thead>\n",
              "    <tr style=\"text-align: right;\">\n",
              "      <th></th>\n",
              "      <th>0</th>\n",
              "    </tr>\n",
              "  </thead>\n",
              "  <tbody>\n",
              "    <tr>\n",
              "      <th>Atmospheric Density</th>\n",
              "      <td>2984</td>\n",
              "    </tr>\n",
              "    <tr>\n",
              "      <th>Surface Temperature</th>\n",
              "      <td>3032</td>\n",
              "    </tr>\n",
              "    <tr>\n",
              "      <th>Gravity</th>\n",
              "      <td>2984</td>\n",
              "    </tr>\n",
              "    <tr>\n",
              "      <th>Water Content</th>\n",
              "      <td>3077</td>\n",
              "    </tr>\n",
              "    <tr>\n",
              "      <th>Mineral Abundance</th>\n",
              "      <td>2921</td>\n",
              "    </tr>\n",
              "    <tr>\n",
              "      <th>Orbital Period</th>\n",
              "      <td>2997</td>\n",
              "    </tr>\n",
              "    <tr>\n",
              "      <th>Proximity to Star</th>\n",
              "      <td>2945</td>\n",
              "    </tr>\n",
              "    <tr>\n",
              "      <th>Magnetic Field Strength</th>\n",
              "      <td>3058</td>\n",
              "    </tr>\n",
              "    <tr>\n",
              "      <th>Radiation Levels</th>\n",
              "      <td>3021</td>\n",
              "    </tr>\n",
              "    <tr>\n",
              "      <th>Atmospheric Composition Index</th>\n",
              "      <td>2942</td>\n",
              "    </tr>\n",
              "    <tr>\n",
              "      <th>Prediction</th>\n",
              "      <td>3039</td>\n",
              "    </tr>\n",
              "  </tbody>\n",
              "</table>\n",
              "</div><br><label><b>dtype:</b> int64</label>"
            ]
          },
          "metadata": {},
          "execution_count": 78
        }
      ]
    },
    {
      "cell_type": "code",
      "source": [
        "df = df.fillna(df.mean(numeric_only=True))\n",
        "for col in df.select_dtypes(include='object').columns:\n",
        "    df[col] = df[col].fillna(df[col].mode()[0])\n",
        "df.isnull().sum()\n"
      ],
      "metadata": {
        "colab": {
          "base_uri": "https://localhost:8080/",
          "height": 429
        },
        "id": "q8viIG9Mxdrw",
        "outputId": "701f31b3-aeca-420a-ab7a-98e051427ca8"
      },
      "execution_count": 79,
      "outputs": [
        {
          "output_type": "execute_result",
          "data": {
            "text/plain": [
              "Atmospheric Density              0\n",
              "Surface Temperature              0\n",
              "Gravity                          0\n",
              "Water Content                    0\n",
              "Mineral Abundance                0\n",
              "Orbital Period                   0\n",
              "Proximity to Star                0\n",
              "Magnetic Field Strength          0\n",
              "Radiation Levels                 0\n",
              "Atmospheric Composition Index    0\n",
              "Prediction                       0\n",
              "dtype: int64"
            ],
            "text/html": [
              "<div>\n",
              "<style scoped>\n",
              "    .dataframe tbody tr th:only-of-type {\n",
              "        vertical-align: middle;\n",
              "    }\n",
              "\n",
              "    .dataframe tbody tr th {\n",
              "        vertical-align: top;\n",
              "    }\n",
              "\n",
              "    .dataframe thead th {\n",
              "        text-align: right;\n",
              "    }\n",
              "</style>\n",
              "<table border=\"1\" class=\"dataframe\">\n",
              "  <thead>\n",
              "    <tr style=\"text-align: right;\">\n",
              "      <th></th>\n",
              "      <th>0</th>\n",
              "    </tr>\n",
              "  </thead>\n",
              "  <tbody>\n",
              "    <tr>\n",
              "      <th>Atmospheric Density</th>\n",
              "      <td>0</td>\n",
              "    </tr>\n",
              "    <tr>\n",
              "      <th>Surface Temperature</th>\n",
              "      <td>0</td>\n",
              "    </tr>\n",
              "    <tr>\n",
              "      <th>Gravity</th>\n",
              "      <td>0</td>\n",
              "    </tr>\n",
              "    <tr>\n",
              "      <th>Water Content</th>\n",
              "      <td>0</td>\n",
              "    </tr>\n",
              "    <tr>\n",
              "      <th>Mineral Abundance</th>\n",
              "      <td>0</td>\n",
              "    </tr>\n",
              "    <tr>\n",
              "      <th>Orbital Period</th>\n",
              "      <td>0</td>\n",
              "    </tr>\n",
              "    <tr>\n",
              "      <th>Proximity to Star</th>\n",
              "      <td>0</td>\n",
              "    </tr>\n",
              "    <tr>\n",
              "      <th>Magnetic Field Strength</th>\n",
              "      <td>0</td>\n",
              "    </tr>\n",
              "    <tr>\n",
              "      <th>Radiation Levels</th>\n",
              "      <td>0</td>\n",
              "    </tr>\n",
              "    <tr>\n",
              "      <th>Atmospheric Composition Index</th>\n",
              "      <td>0</td>\n",
              "    </tr>\n",
              "    <tr>\n",
              "      <th>Prediction</th>\n",
              "      <td>0</td>\n",
              "    </tr>\n",
              "  </tbody>\n",
              "</table>\n",
              "</div><br><label><b>dtype:</b> int64</label>"
            ]
          },
          "metadata": {},
          "execution_count": 79
        }
      ]
    },
    {
      "cell_type": "code",
      "source": [
        "from sklearn.model_selection import train_test_split\n",
        "from sklearn.preprocessing import StandardScaler\n",
        "from sklearn.model_selection import train_test_split\n",
        "from sklearn.linear_model import LogisticRegression\n",
        "from sklearn.naive_bayes import GaussianNB\n",
        "from sklearn.svm import SVC\n",
        "from sklearn.metrics import accuracy_score, precision_score, recall_score, f1_score, classification_report, confusion_matrix"
      ],
      "metadata": {
        "id": "FP4Sj1hIx6vH"
      },
      "execution_count": 80,
      "outputs": []
    },
    {
      "cell_type": "code",
      "source": [
        "df.columns = df.columns.str.normalize('NFKC').str.replace(r'\\s+', ' ', regex=True).str.strip()\n"
      ],
      "metadata": {
        "id": "pV0Bn8faaziv"
      },
      "execution_count": 81,
      "outputs": []
    },
    {
      "cell_type": "code",
      "source": [
        "num_cols = [\"Atmospheric Density\", \"Surface Temperature\", \"Gravity\",\"Water Content\", \"Mineral Abundance\", \"Orbital Period\",\"Proximity to Star\", \"Atmospheric Composition Index\"]\n",
        "cat_cols = [\"Magnetic Field Strength\", \"Radiation Levels\"]"
      ],
      "metadata": {
        "id": "IIJWPf82ZUQ8"
      },
      "execution_count": 85,
      "outputs": []
    },
    {
      "cell_type": "code",
      "source": [
        "df = pd.get_dummies(df, columns=cat_cols, drop_first=True)"
      ],
      "metadata": {
        "id": "DdgiopnIZWR6"
      },
      "execution_count": 86,
      "outputs": []
    },
    {
      "cell_type": "code",
      "source": [
        "from sklearn.preprocessing import StandardScaler\n",
        "\n",
        "scaler = StandardScaler()\n",
        "df[num_cols] = scaler.fit_transform(df[num_cols])"
      ],
      "metadata": {
        "id": "mMb0C5VcbafG"
      },
      "execution_count": 89,
      "outputs": []
    },
    {
      "cell_type": "code",
      "source": [
        "X = df.drop(\"Prediction\", axis=1)\n",
        "y = df[\"Prediction\"]\n",
        "\n",
        "X_train, X_test, y_train, y_test = train_test_split(\n",
        "    X, y, test_size=0.2, random_state=42,stratify=y\n",
        ")"
      ],
      "metadata": {
        "id": "WfqutqBtyf0k"
      },
      "execution_count": 90,
      "outputs": []
    },
    {
      "cell_type": "code",
      "source": [
        "X_train.shape, X_test.shape, y_train.shape, y_test.shape"
      ],
      "metadata": {
        "colab": {
          "base_uri": "https://localhost:8080/"
        },
        "id": "lCi1V48my6Th",
        "outputId": "08ab6781-a9d9-45c1-b683-2f15f77950bb"
      },
      "execution_count": 91,
      "outputs": [
        {
          "output_type": "execute_result",
          "data": {
            "text/plain": [
              "((48000, 46), (12000, 46), (48000,), (12000,))"
            ]
          },
          "metadata": {},
          "execution_count": 91
        }
      ]
    },
    {
      "cell_type": "code",
      "source": [
        "def logistic_regression_model(X_train, X_test, y_train, y_test):\n",
        "    model = LogisticRegression(max_iter=1000)\n",
        "    model.fit(X_train, y_train)\n",
        "    y_pred = model.predict(X_test)\n",
        "    print(\"--- Logistic Regression ---\")\n",
        "    evaluate_model(y_test, y_pred)\n",
        "\n",
        "\n",
        "def svm_model(X_train, X_test, y_train, y_test):\n",
        "    model = SVC(kernel=\"linear\")\n",
        "    model.fit(X_train, y_train)\n",
        "    y_pred = model.predict(X_test)\n",
        "    print(\"--- SVM ---\")\n",
        "    evaluate_model(y_test, y_pred)"
      ],
      "metadata": {
        "id": "t8_yVs89z2XP"
      },
      "execution_count": 92,
      "outputs": []
    },
    {
      "cell_type": "code",
      "source": [
        "def evaluate_model(y_true, y_pred):\n",
        "    print(\"Accuracy:\", accuracy_score(y_true, y_pred))\n",
        "    print(\"Precision:\", precision_score(y_true, y_pred, average=\"weighted\"))\n",
        "    print(\"Recall:\", recall_score(y_true, y_pred, average=\"weighted\"))\n",
        "    print(\"F1 Score:\", f1_score(y_true, y_pred, average=\"weighted\"))\n",
        "    print(\"\\nClassification Report:\\n\", classification_report(y_true, y_pred))\n",
        "    print(\"Confusion Matrix:\\n\", confusion_matrix(y_true, y_pred))\n",
        "    print(\"--------------------------------------------------------\\n\")"
      ],
      "metadata": {
        "id": "Zq2AylJa0cIQ"
      },
      "execution_count": 93,
      "outputs": []
    },
    {
      "cell_type": "code",
      "source": [
        "X = df.drop(columns=[\"Prediction\"])\n",
        "y = df[\"Prediction\"]\n",
        "\n",
        "X_train, X_test, y_train, y_test = train_test_split(X, y, test_size=0.2, random_state=42)\n",
        "\n",
        "le = LabelEncoder()\n",
        "y_train = le.fit_transform(y_train)\n",
        "y_test = le.transform(y_test)\n",
        "\n",
        "X_train = pd.get_dummies(X_train)\n",
        "X_test = pd.get_dummies(X_test)\n",
        "X_test = X_test.reindex(columns=X_train.columns, fill_value=0)\n",
        "\n",
        "scaler = StandardScaler()\n",
        "X_train = scaler.fit_transform(X_train)\n",
        "X_test = scaler.transform(X_test)\n",
        "\n",
        "logistic_regression_model(X_train, X_test, y_train, y_test)\n",
        "svm_model(X_train, X_test, y_train, y_test)"
      ],
      "metadata": {
        "colab": {
          "base_uri": "https://localhost:8080/"
        },
        "id": "zw2aVUJYWR7s",
        "outputId": "7379a835-28a6-4502-d8c7-b4ccfa98eb83"
      },
      "execution_count": null,
      "outputs": [
        {
          "output_type": "stream",
          "name": "stdout",
          "text": [
            "--- Logistic Regression ---\n",
            "Accuracy: 0.7230833333333333\n",
            "Precision: 0.6988126265783244\n",
            "Recall: 0.7230833333333333\n",
            "F1 Score: 0.7098105283154146\n",
            "\n",
            "Classification Report:\n",
            "               precision    recall  f1-score   support\n",
            "\n",
            "           0       0.83      0.81      0.82      1122\n",
            "           1       0.80      0.89      0.84      1268\n",
            "           2       0.72      0.74      0.73      1117\n",
            "           3       0.70      0.74      0.72      1155\n",
            "           4       0.71      0.75      0.73      1121\n",
            "           5       0.06      0.01      0.02       562\n",
            "           6       0.63      0.63      0.63      1058\n",
            "           7       0.79      0.83      0.81      1125\n",
            "           8       0.82      0.83      0.82      1236\n",
            "           9       0.68      0.70      0.69      1100\n",
            "          10       0.62      0.64      0.63      1136\n",
            "\n",
            "    accuracy                           0.72     12000\n",
            "   macro avg       0.67      0.69      0.68     12000\n",
            "weighted avg       0.70      0.72      0.71     12000\n",
            "\n",
            "Confusion Matrix:\n",
            " [[ 911    3   13   18    6   20   95   28   14   12    2]\n",
            " [   7 1123   29    7    7   15   33    6    3   36    2]\n",
            " [  21   40  825   33   29   14    3   71   21   52    8]\n",
            " [  14   15   48  857    4    8   88   14   15   65   27]\n",
            " [   4    5   15    6  840    2   10   27   14   16  182]\n",
            " [  53   53   52   72   48    8   47   57   54   51   67]\n",
            " [  41   42   11  104   29   28  665   27   20   51   40]\n",
            " [  20   19   62    8   18    9   35  934    4   12    4]\n",
            " [  11   43   23    5   14    3   11    1 1024   30   71]\n",
            " [  10   43   42   95   10   12   57   12    6  768   45]\n",
            " [  12   13   28   26  182   10   18    3   78   44  722]]\n",
            "--------------------------------------------------------\n",
            "\n"
          ]
        }
      ]
    },
    {
      "cell_type": "code",
      "source": [],
      "metadata": {
        "id": "DsWzDhUIX-gd"
      },
      "execution_count": null,
      "outputs": []
    }
  ],
  "metadata": {
    "colab": {
      "provenance": []
    },
    "kernelspec": {
      "display_name": "Python 3",
      "name": "python3"
    }
  },
  "nbformat": 4,
  "nbformat_minor": 0
}